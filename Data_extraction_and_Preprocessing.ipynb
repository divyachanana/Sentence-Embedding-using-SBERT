{
 "cells": [
  {
   "cell_type": "code",
   "execution_count": 4,
   "id": "c62478e5",
   "metadata": {},
   "outputs": [],
   "source": [
    "import pandas as pd\n",
    "import ast"
   ]
  },
  {
   "cell_type": "code",
   "execution_count": 3,
   "id": "09e887bb",
   "metadata": {},
   "outputs": [
    {
     "data": {
      "text/html": [
       "<div>\n",
       "<style scoped>\n",
       "    .dataframe tbody tr th:only-of-type {\n",
       "        vertical-align: middle;\n",
       "    }\n",
       "\n",
       "    .dataframe tbody tr th {\n",
       "        vertical-align: top;\n",
       "    }\n",
       "\n",
       "    .dataframe thead th {\n",
       "        text-align: right;\n",
       "    }\n",
       "</style>\n",
       "<table border=\"1\" class=\"dataframe\">\n",
       "  <thead>\n",
       "    <tr style=\"text-align: right;\">\n",
       "      <th></th>\n",
       "      <th>questionType</th>\n",
       "      <th>asin</th>\n",
       "      <th>answerTime</th>\n",
       "      <th>unixTime</th>\n",
       "      <th>question</th>\n",
       "      <th>answerType</th>\n",
       "      <th>answer</th>\n",
       "    </tr>\n",
       "  </thead>\n",
       "  <tbody>\n",
       "    <tr>\n",
       "      <th>0</th>\n",
       "      <td>yes/no</td>\n",
       "      <td>B00004U9JP</td>\n",
       "      <td>Jun 27, 2014</td>\n",
       "      <td>1.403852e+09</td>\n",
       "      <td>I have a 9 year old Badger 1 that needs replac...</td>\n",
       "      <td>?</td>\n",
       "      <td>I replaced my old one with this without a hitch.</td>\n",
       "    </tr>\n",
       "    <tr>\n",
       "      <th>1</th>\n",
       "      <td>open-ended</td>\n",
       "      <td>B00004U9JP</td>\n",
       "      <td>Apr 28, 2014</td>\n",
       "      <td>1.398668e+09</td>\n",
       "      <td>model number</td>\n",
       "      <td>NaN</td>\n",
       "      <td>This may help InSinkErator Model BADGER-1: Bad...</td>\n",
       "    </tr>\n",
       "    <tr>\n",
       "      <th>2</th>\n",
       "      <td>yes/no</td>\n",
       "      <td>B00004U9JP</td>\n",
       "      <td>Aug 25, 2014</td>\n",
       "      <td>1.408950e+09</td>\n",
       "      <td>can I replace Badger 1 1/3 with a Badger 5 1/2...</td>\n",
       "      <td>?</td>\n",
       "      <td>Plumbing connections will vary with different ...</td>\n",
       "    </tr>\n",
       "    <tr>\n",
       "      <th>3</th>\n",
       "      <td>yes/no</td>\n",
       "      <td>B00004U9JP</td>\n",
       "      <td>Nov 3, 2014</td>\n",
       "      <td>1.415002e+09</td>\n",
       "      <td>Does this come with power cord and dishwasher ...</td>\n",
       "      <td>?</td>\n",
       "      <td>It does not come with a power cord. It does co...</td>\n",
       "    </tr>\n",
       "    <tr>\n",
       "      <th>4</th>\n",
       "      <td>open-ended</td>\n",
       "      <td>B00004U9JP</td>\n",
       "      <td>Jun 21, 2014</td>\n",
       "      <td>1.403334e+09</td>\n",
       "      <td>loud noise inside when turned on. sounds like ...</td>\n",
       "      <td>NaN</td>\n",
       "      <td>Check if you dropped something inside.Usually ...</td>\n",
       "    </tr>\n",
       "  </tbody>\n",
       "</table>\n",
       "</div>"
      ],
      "text/plain": [
       "  questionType        asin    answerTime      unixTime  \\\n",
       "0       yes/no  B00004U9JP  Jun 27, 2014  1.403852e+09   \n",
       "1   open-ended  B00004U9JP  Apr 28, 2014  1.398668e+09   \n",
       "2       yes/no  B00004U9JP  Aug 25, 2014  1.408950e+09   \n",
       "3       yes/no  B00004U9JP   Nov 3, 2014  1.415002e+09   \n",
       "4   open-ended  B00004U9JP  Jun 21, 2014  1.403334e+09   \n",
       "\n",
       "                                            question answerType  \\\n",
       "0  I have a 9 year old Badger 1 that needs replac...          ?   \n",
       "1                                       model number        NaN   \n",
       "2  can I replace Badger 1 1/3 with a Badger 5 1/2...          ?   \n",
       "3  Does this come with power cord and dishwasher ...          ?   \n",
       "4  loud noise inside when turned on. sounds like ...        NaN   \n",
       "\n",
       "                                              answer  \n",
       "0   I replaced my old one with this without a hitch.  \n",
       "1  This may help InSinkErator Model BADGER-1: Bad...  \n",
       "2  Plumbing connections will vary with different ...  \n",
       "3  It does not come with a power cord. It does co...  \n",
       "4  Check if you dropped something inside.Usually ...  "
      ]
     },
     "execution_count": 3,
     "metadata": {},
     "output_type": "execute_result"
    }
   ],
   "source": [
    "#reading a josonfile which is collected from internet and converting it in to a dataframe and storing the retrived data frame in e\n",
    "f=open('qa.json','r')\n",
    "d=f.readlines()\n",
    "c=0\n",
    "df=pd.DataFrame()\n",
    "for i in d:\n",
    " m= ast.literal_eval(i)    \n",
    " df1=pd.DataFrame(m,index=[c])\n",
    " c+=1\n",
    " df=pd.concat((df,df1)) \n",
    "df.head()"
   ]
  },
  {
   "cell_type": "code",
   "execution_count": null,
   "id": "92ebbff3",
   "metadata": {},
   "outputs": [],
   "source": []
  },
  {
   "cell_type": "code",
   "execution_count": 4,
   "id": "1dbb11c8",
   "metadata": {},
   "outputs": [
    {
     "name": "stdout",
     "output_type": "stream",
     "text": [
      "<class 'pandas.core.frame.DataFrame'>\n",
      "Int64Index: 9011 entries, 0 to 9010\n",
      "Data columns (total 7 columns):\n",
      " #   Column        Non-Null Count  Dtype  \n",
      "---  ------        --------------  -----  \n",
      " 0   questionType  9011 non-null   object \n",
      " 1   asin          9011 non-null   object \n",
      " 2   answerTime    9011 non-null   object \n",
      " 3   unixTime      8590 non-null   float64\n",
      " 4   question      9011 non-null   object \n",
      " 5   answerType    4693 non-null   object \n",
      " 6   answer        9011 non-null   object \n",
      "dtypes: float64(1), object(6)\n",
      "memory usage: 563.2+ KB\n"
     ]
    }
   ],
   "source": [
    "df.info()"
   ]
  },
  {
   "cell_type": "code",
   "execution_count": 6,
   "id": "33d9a4bb",
   "metadata": {},
   "outputs": [
    {
     "data": {
      "text/plain": [
       "(9011, 7)"
      ]
     },
     "execution_count": 6,
     "metadata": {},
     "output_type": "execute_result"
    }
   ],
   "source": [
    "df.shape"
   ]
  },
  {
   "cell_type": "code",
   "execution_count": 108,
   "id": "0bd57085",
   "metadata": {},
   "outputs": [
    {
     "data": {
      "text/plain": [
       "questionType       2\n",
       "asin            1153\n",
       "answerTime       904\n",
       "unixTime         875\n",
       "question        8736\n",
       "answerType         3\n",
       "answer          8298\n",
       "dtype: int64"
      ]
     },
     "execution_count": 108,
     "metadata": {},
     "output_type": "execute_result"
    }
   ],
   "source": [
    "df.nunique()"
   ]
  },
  {
   "cell_type": "code",
   "execution_count": 109,
   "id": "2bebf5ee",
   "metadata": {},
   "outputs": [
    {
     "data": {
      "text/plain": [
       "asin        1153\n",
       "question    8736\n",
       "answer      8298\n",
       "dtype: int64"
      ]
     },
     "execution_count": 109,
     "metadata": {},
     "output_type": "execute_result"
    }
   ],
   "source": [
    "df[['asin','question','answer']].nunique()"
   ]
  },
  {
   "cell_type": "code",
   "execution_count": 110,
   "id": "e76333d8",
   "metadata": {},
   "outputs": [],
   "source": [
    "df[['asin','question','answer']].to_excel('df.xlsx')"
   ]
  },
  {
   "cell_type": "code",
   "execution_count": 5,
   "id": "54c97568",
   "metadata": {
    "scrolled": true
   },
   "outputs": [
    {
     "data": {
      "text/html": [
       "<div>\n",
       "<style scoped>\n",
       "    .dataframe tbody tr th:only-of-type {\n",
       "        vertical-align: middle;\n",
       "    }\n",
       "\n",
       "    .dataframe tbody tr th {\n",
       "        vertical-align: top;\n",
       "    }\n",
       "\n",
       "    .dataframe thead th {\n",
       "        text-align: right;\n",
       "    }\n",
       "</style>\n",
       "<table border=\"1\" class=\"dataframe\">\n",
       "  <thead>\n",
       "    <tr style=\"text-align: right;\">\n",
       "      <th></th>\n",
       "      <th>asin</th>\n",
       "      <th>question</th>\n",
       "      <th>answer</th>\n",
       "    </tr>\n",
       "  </thead>\n",
       "  <tbody>\n",
       "    <tr>\n",
       "      <th>0</th>\n",
       "      <td>B00004U9JP</td>\n",
       "      <td>I have a 9 year old Badger 1 that needs replac...</td>\n",
       "      <td>I replaced my old one with this without a hitch.</td>\n",
       "    </tr>\n",
       "    <tr>\n",
       "      <th>1</th>\n",
       "      <td>B00004U9JP</td>\n",
       "      <td>model number</td>\n",
       "      <td>This may help InSinkErator Model BADGER-1: Bad...</td>\n",
       "    </tr>\n",
       "    <tr>\n",
       "      <th>2</th>\n",
       "      <td>B00004U9JP</td>\n",
       "      <td>can I replace Badger 1 1/3 with a Badger 5 1/2...</td>\n",
       "      <td>Plumbing connections will vary with different ...</td>\n",
       "    </tr>\n",
       "    <tr>\n",
       "      <th>3</th>\n",
       "      <td>B00004U9JP</td>\n",
       "      <td>Does this come with power cord and dishwasher ...</td>\n",
       "      <td>It does not come with a power cord. It does co...</td>\n",
       "    </tr>\n",
       "    <tr>\n",
       "      <th>4</th>\n",
       "      <td>B00004U9JP</td>\n",
       "      <td>loud noise inside when turned on. sounds like ...</td>\n",
       "      <td>Check if you dropped something inside.Usually ...</td>\n",
       "    </tr>\n",
       "    <tr>\n",
       "      <th>...</th>\n",
       "      <td>...</td>\n",
       "      <td>...</td>\n",
       "      <td>...</td>\n",
       "    </tr>\n",
       "    <tr>\n",
       "      <th>9003</th>\n",
       "      <td>B00L07RWJE</td>\n",
       "      <td>How come it is compatible with all brands?</td>\n",
       "      <td>The Woder 5K Inline Water Filter for Ice ice m...</td>\n",
       "    </tr>\n",
       "    <tr>\n",
       "      <th>9004</th>\n",
       "      <td>B00L07RWJE</td>\n",
       "      <td>Is it compatible to replace my Maytag UKF8001 ...</td>\n",
       "      <td>Yes, of course. The Woder Fridge Filter fits b...</td>\n",
       "    </tr>\n",
       "    <tr>\n",
       "      <th>9005</th>\n",
       "      <td>B00L07RWJE</td>\n",
       "      <td>I cannot find any official reference to testin...</td>\n",
       "      <td>'Woder' is a Clearbrook LLC / Sunrise Solution...</td>\n",
       "    </tr>\n",
       "    <tr>\n",
       "      <th>9006</th>\n",
       "      <td>B00L07RWJE</td>\n",
       "      <td>Can it be installed inside the refrigerator, a...</td>\n",
       "      <td>I can't say for certain but it would require c...</td>\n",
       "    </tr>\n",
       "    <tr>\n",
       "      <th>9007</th>\n",
       "      <td>B00L07RWJE</td>\n",
       "      <td>I just got the filter in and it doesn't look l...</td>\n",
       "      <td>You have received the correct filter. They hav...</td>\n",
       "    </tr>\n",
       "  </tbody>\n",
       "</table>\n",
       "<p>9008 rows × 3 columns</p>\n",
       "</div>"
      ],
      "text/plain": [
       "            asin                                           question  \\\n",
       "0     B00004U9JP  I have a 9 year old Badger 1 that needs replac...   \n",
       "1     B00004U9JP                                       model number   \n",
       "2     B00004U9JP  can I replace Badger 1 1/3 with a Badger 5 1/2...   \n",
       "3     B00004U9JP  Does this come with power cord and dishwasher ...   \n",
       "4     B00004U9JP  loud noise inside when turned on. sounds like ...   \n",
       "...          ...                                                ...   \n",
       "9003  B00L07RWJE         How come it is compatible with all brands?   \n",
       "9004  B00L07RWJE  Is it compatible to replace my Maytag UKF8001 ...   \n",
       "9005  B00L07RWJE  I cannot find any official reference to testin...   \n",
       "9006  B00L07RWJE  Can it be installed inside the refrigerator, a...   \n",
       "9007  B00L07RWJE  I just got the filter in and it doesn't look l...   \n",
       "\n",
       "                                                 answer  \n",
       "0      I replaced my old one with this without a hitch.  \n",
       "1     This may help InSinkErator Model BADGER-1: Bad...  \n",
       "2     Plumbing connections will vary with different ...  \n",
       "3     It does not come with a power cord. It does co...  \n",
       "4     Check if you dropped something inside.Usually ...  \n",
       "...                                                 ...  \n",
       "9003  The Woder 5K Inline Water Filter for Ice ice m...  \n",
       "9004  Yes, of course. The Woder Fridge Filter fits b...  \n",
       "9005  'Woder' is a Clearbrook LLC / Sunrise Solution...  \n",
       "9006  I can't say for certain but it would require c...  \n",
       "9007  You have received the correct filter. They hav...  \n",
       "\n",
       "[9008 rows x 3 columns]"
      ]
     },
     "execution_count": 5,
     "metadata": {},
     "output_type": "execute_result"
    }
   ],
   "source": [
    "df = pd.read_excel('df.xlsx')\n",
    "df"
   ]
  },
  {
   "cell_type": "code",
   "execution_count": 112,
   "id": "c46c4fc9",
   "metadata": {},
   "outputs": [
    {
     "data": {
      "text/plain": [
       "(9008, 3)"
      ]
     },
     "execution_count": 112,
     "metadata": {},
     "output_type": "execute_result"
    }
   ],
   "source": [
    "df.shape"
   ]
  },
  {
   "cell_type": "code",
   "execution_count": 113,
   "id": "bcb512f6",
   "metadata": {},
   "outputs": [
    {
     "data": {
      "text/plain": [
       "1153"
      ]
     },
     "execution_count": 113,
     "metadata": {},
     "output_type": "execute_result"
    }
   ],
   "source": [
    "df['asin'].nunique()"
   ]
  },
  {
   "cell_type": "code",
   "execution_count": 55,
   "id": "18898a68",
   "metadata": {},
   "outputs": [
    {
     "data": {
      "text/plain": [
       "'B001DPXZBM'"
      ]
     },
     "execution_count": 55,
     "metadata": {},
     "output_type": "execute_result"
    }
   ],
   "source": [
    "(df['asin'].unique())[250]"
   ]
  },
  {
   "cell_type": "code",
   "execution_count": 45,
   "id": "95b57dcd",
   "metadata": {},
   "outputs": [
    {
     "data": {
      "text/plain": [
       "254"
      ]
     },
     "execution_count": 45,
     "metadata": {},
     "output_type": "execute_result"
    }
   ],
   "source": [
    "df[:2050]['asin'].nunique()"
   ]
  },
  {
   "cell_type": "code",
   "execution_count": 114,
   "id": "5bcefbb7",
   "metadata": {},
   "outputs": [
    {
     "data": {
      "text/html": [
       "<div>\n",
       "<style scoped>\n",
       "    .dataframe tbody tr th:only-of-type {\n",
       "        vertical-align: middle;\n",
       "    }\n",
       "\n",
       "    .dataframe tbody tr th {\n",
       "        vertical-align: top;\n",
       "    }\n",
       "\n",
       "    .dataframe thead th {\n",
       "        text-align: right;\n",
       "    }\n",
       "</style>\n",
       "<table border=\"1\" class=\"dataframe\">\n",
       "  <thead>\n",
       "    <tr style=\"text-align: right;\">\n",
       "      <th></th>\n",
       "      <th>asin</th>\n",
       "      <th>question</th>\n",
       "      <th>answer</th>\n",
       "    </tr>\n",
       "  </thead>\n",
       "  <tbody>\n",
       "    <tr>\n",
       "      <th>1618</th>\n",
       "      <td>B0017SHQTW</td>\n",
       "      <td>I need freezer to just keep ice bags in that?</td>\n",
       "      <td>Why would you just use it for ice bags?</td>\n",
       "    </tr>\n",
       "    <tr>\n",
       "      <th>1619</th>\n",
       "      <td>B0017SHQTW</td>\n",
       "      <td>What is the right temperature setting for an u...</td>\n",
       "      <td>To maintain the proper temperature setting in ...</td>\n",
       "    </tr>\n",
       "    <tr>\n",
       "      <th>1620</th>\n",
       "      <td>B0017SHQTW</td>\n",
       "      <td>can the freezer door be reversed to open the o...</td>\n",
       "      <td>Off the top of my head I would say no. It has ...</td>\n",
       "    </tr>\n",
       "    <tr>\n",
       "      <th>1621</th>\n",
       "      <td>B0017SHQTW</td>\n",
       "      <td>can this freezer be used in a commercial kitch...</td>\n",
       "      <td>It is labeled as commercial, I don't believe i...</td>\n",
       "    </tr>\n",
       "  </tbody>\n",
       "</table>\n",
       "</div>"
      ],
      "text/plain": [
       "            asin                                           question  \\\n",
       "1618  B0017SHQTW      I need freezer to just keep ice bags in that?   \n",
       "1619  B0017SHQTW  What is the right temperature setting for an u...   \n",
       "1620  B0017SHQTW  can the freezer door be reversed to open the o...   \n",
       "1621  B0017SHQTW  can this freezer be used in a commercial kitch...   \n",
       "\n",
       "                                                 answer  \n",
       "1618            Why would you just use it for ice bags?  \n",
       "1619  To maintain the proper temperature setting in ...  \n",
       "1620  Off the top of my head I would say no. It has ...  \n",
       "1621  It is labeled as commercial, I don't believe i...  "
      ]
     },
     "execution_count": 114,
     "metadata": {},
     "output_type": "execute_result"
    }
   ],
   "source": [
    "df[df['asin']=='B0017SHQTW']"
   ]
  },
  {
   "cell_type": "code",
   "execution_count": null,
   "id": "cff91189",
   "metadata": {},
   "outputs": [],
   "source": [
    "df[df['asin']=='B0017T0U08']"
   ]
  },
  {
   "cell_type": "code",
   "execution_count": 35,
   "id": "2175c914",
   "metadata": {},
   "outputs": [
    {
     "data": {
      "text/plain": [
       "'B0017T0U08'"
      ]
     },
     "execution_count": 35,
     "metadata": {},
     "output_type": "execute_result"
    }
   ],
   "source": [
    "df['asin'].unique()[200]"
   ]
  },
  {
   "cell_type": "code",
   "execution_count": 21,
   "id": "e91c9c63",
   "metadata": {},
   "outputs": [
    {
     "data": {
      "text/html": [
       "<div>\n",
       "<style scoped>\n",
       "    .dataframe tbody tr th:only-of-type {\n",
       "        vertical-align: middle;\n",
       "    }\n",
       "\n",
       "    .dataframe tbody tr th {\n",
       "        vertical-align: top;\n",
       "    }\n",
       "\n",
       "    .dataframe thead th {\n",
       "        text-align: right;\n",
       "    }\n",
       "</style>\n",
       "<table border=\"1\" class=\"dataframe\">\n",
       "  <thead>\n",
       "    <tr style=\"text-align: right;\">\n",
       "      <th></th>\n",
       "      <th>question type</th>\n",
       "      <th>asin</th>\n",
       "      <th>answertime</th>\n",
       "      <th>unixTime</th>\n",
       "      <th>question</th>\n",
       "      <th>answer type</th>\n",
       "      <th>answer</th>\n",
       "      <th>questionType</th>\n",
       "      <th>answerTime</th>\n",
       "      <th>answerType</th>\n",
       "    </tr>\n",
       "  </thead>\n",
       "  <tbody>\n",
       "    <tr>\n",
       "      <th>0</th>\n",
       "      <td>NaN</td>\n",
       "      <td>B0017T0U08</td>\n",
       "      <td>NaN</td>\n",
       "      <td>1399100400</td>\n",
       "      <td>will this work with a Honeywell TM005X Wireles...</td>\n",
       "      <td>NaN</td>\n",
       "      <td>You shouldn't be sorry to use them. I have 3 a...</td>\n",
       "      <td>yes/no</td>\n",
       "      <td>May 3, 2014</td>\n",
       "      <td>Y</td>\n",
       "    </tr>\n",
       "    <tr>\n",
       "      <th>0</th>\n",
       "      <td>NaN</td>\n",
       "      <td>B0017T0U08</td>\n",
       "      <td>NaN</td>\n",
       "      <td>1389772800</td>\n",
       "      <td>Is this compatible with the Meade / Honeywell ...</td>\n",
       "      <td>NaN</td>\n",
       "      <td>Sorry Deborah I never tried it against another...</td>\n",
       "      <td>yes/no</td>\n",
       "      <td>Jan 15, 2014</td>\n",
       "      <td>?</td>\n",
       "    </tr>\n",
       "    <tr>\n",
       "      <th>0</th>\n",
       "      <td>NaN</td>\n",
       "      <td>B0017T0U08</td>\n",
       "      <td>NaN</td>\n",
       "      <td>1387008000</td>\n",
       "      <td>what is its accuracy?</td>\n",
       "      <td>NaN</td>\n",
       "      <td>Usually 2 degrees either way.</td>\n",
       "      <td>open-ended</td>\n",
       "      <td>Dec 14, 2013</td>\n",
       "      <td>NaN</td>\n",
       "    </tr>\n",
       "  </tbody>\n",
       "</table>\n",
       "</div>"
      ],
      "text/plain": [
       "  question type        asin answertime    unixTime  \\\n",
       "0           NaN  B0017T0U08        NaN  1399100400   \n",
       "0           NaN  B0017T0U08        NaN  1389772800   \n",
       "0           NaN  B0017T0U08        NaN  1387008000   \n",
       "\n",
       "                                            question answer type  \\\n",
       "0  will this work with a Honeywell TM005X Wireles...         NaN   \n",
       "0  Is this compatible with the Meade / Honeywell ...         NaN   \n",
       "0                              what is its accuracy?         NaN   \n",
       "\n",
       "                                              answer questionType  \\\n",
       "0  You shouldn't be sorry to use them. I have 3 a...       yes/no   \n",
       "0  Sorry Deborah I never tried it against another...       yes/no   \n",
       "0                      Usually 2 degrees either way.   open-ended   \n",
       "\n",
       "     answerTime answerType  \n",
       "0   May 3, 2014          Y  \n",
       "0  Jan 15, 2014          ?  \n",
       "0  Dec 14, 2013        NaN  "
      ]
     },
     "execution_count": 21,
     "metadata": {},
     "output_type": "execute_result"
    }
   ],
   "source": [
    "df[df['asin']=='B0017T0U08']"
   ]
  },
  {
   "cell_type": "code",
   "execution_count": 7,
   "id": "b9f324e8",
   "metadata": {},
   "outputs": [
    {
     "data": {
      "text/plain": [
       "10    538\n",
       "4     102\n",
       "9      99\n",
       "5      95\n",
       "6      89\n",
       "3      82\n",
       "7      80\n",
       "8      63\n",
       "2       5\n",
       "dtype: int64"
      ]
     },
     "execution_count": 7,
     "metadata": {},
     "output_type": "execute_result"
    }
   ],
   "source": [
    "import matplotlib.pyplot as plt\n",
    "k=pd.DataFrame(sorted(df['asin'].value_counts(),reverse=True)).value_counts()\n",
    "k"
   ]
  },
  {
   "cell_type": "code",
   "execution_count": 27,
   "id": "15d15159",
   "metadata": {},
   "outputs": [
    {
     "data": {
      "image/png": "[encoded data removed]",
      "text/plain": [
       "<Figure size 800x400 with 1 Axes>"
      ]
     },
     "metadata": {},
     "output_type": "display_data"
    }
   ],
   "source": [
    "k.plot(kind='bar',xlabel='number of questions',ylabel='number of products')\n",
    "plt.rcParams['figure.figsize'] = [8,3]\n",
    "plt.show()"
   ]
  },
  {
   "cell_type": "code",
   "execution_count": null,
   "id": "21e03bbe",
   "metadata": {},
   "outputs": [],
   "source": []
  }
 ],
 "metadata": {
  "kernelspec": {
   "display_name": "Python 3 (ipykernel)",
   "language": "python",
   "name": "python3"
  },
  "language_info": {
   "codemirror_mode": {
    "name": "ipython",
    "version": 3
   },
   "file_extension": ".py",
   "mimetype": "text/x-python",
   "name": "python",
   "nbconvert_exporter": "python",
   "pygments_lexer": "ipython3",
   "version": "3.9.13"
  }
 },
 "nbformat": 4,
 "nbformat_minor": 5
}
